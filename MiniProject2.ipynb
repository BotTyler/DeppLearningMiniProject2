{
 "cells": [
  {
   "cell_type": "code",
   "execution_count": 1,
   "metadata": {},
   "outputs": [],
   "source": [
    "from tensorflow import keras\n",
    "from keras import layers\n",
    "import pandas as pd\n",
    "import numpy as np"
   ]
  },
  {
   "cell_type": "code",
   "execution_count": 2,
   "metadata": {},
   "outputs": [],
   "source": [
    "data_augmentation = keras.Sequential(\n",
    "    [\n",
    "        layers.RandomFlip(\"horizontal\"),\n",
    "        layers.RandomRotation(0.1),\n",
    "        layers.RandomZoom(0.2),\n",
    "    ]\n",
    ")"
   ]
  },
  {
   "cell_type": "code",
   "execution_count": 3,
   "metadata": {},
   "outputs": [],
   "source": [
    "#old model\n",
    "model = keras.Sequential([\n",
    "    data_augmentation,\n",
    "    keras.layers.Rescaling(1./255),\n",
    "    keras.layers.Conv2D(32, (3, 3), activation=\"relu\"),\n",
    "    keras.layers.MaxPooling2D(2),\n",
    "    keras.layers.Conv2D(64, (3, 3), activation=\"relu\"),\n",
    "    keras.layers.MaxPooling2D(2),\n",
    "    keras.layers.Conv2D(128, (3, 3), activation=\"relu\"),\n",
    "    keras.layers.MaxPooling2D(2),\n",
    "    keras.layers.Conv2D(128, (3, 3), activation=\"relu\"),\n",
    "    keras.layers.MaxPooling2D(2),\n",
    "    keras.layers.Conv2D(256, (3, 3), activation=\"relu\"),\n",
    "    keras.layers.Flatten(),\n",
    "    keras.layers.Dense(1, activation=\"sigmoid\"),\n",
    "\n",
    "\n",
    "\n",
    "])\n"
   ]
  },
  {
   "cell_type": "code",
   "execution_count": 4,
   "metadata": {},
   "outputs": [],
   "source": [
    "# old model\n",
    "from keras.layers import Conv2D, MaxPooling2D, Dense, Flatten, Dropout\n",
    "from keras.activations import relu\n",
    "from keras.optimizers import Adam\n",
    "from keras.losses import mean_squared_error\n",
    "#import tensorflow as tf\n",
    "\n",
    "model = keras.Sequential([\n",
    "    data_augmentation,\n",
    "    keras.layers.Rescaling(1./255),\n",
    "    Conv2D(3, (5,5), strides=(2,2), activation=relu),\n",
    "    #MaxPooling2D(2),\n",
    "    Conv2D(24, (5, 5), strides=(2, 2), activation=relu, input_shape=(200, 200, 3)),\n",
    "    #MaxPooling2D(2),\n",
    "    Conv2D(36, (5, 5), strides=(2, 2), activation=relu),\n",
    "    #MaxPooling2D(2),\n",
    "    Conv2D(48, (3, 3), strides=(2, 2), activation=relu),\n",
    "    #MaxPooling2D(2),\n",
    "    Conv2D(64, (3, 3), strides=(2, 2), activation=relu),\n",
    "    #MaxPooling2D(2),\n",
    "    Conv2D(64, (3, 3), strides=(2, 2), activation=relu),\n",
    "    #Dropout(0.5),\n",
    "    Flatten(),\n",
    "    Dense(1164, activation=relu),\n",
    "    Dense(100, activation=relu),\n",
    "    Dense(50, activation=relu),\n",
    "    Dense(10, activation=relu),\n",
    "    Dense(1),\n",
    "\n",
    "])\n",
    "\n",
    "model.compile(loss=mean_squared_error, optimizer=Adam(), metrics=['mean_squared_error', 'mean_absolute_error'])\n"
   ]
  },
  {
   "cell_type": "code",
   "execution_count": 5,
   "metadata": {},
   "outputs": [],
   "source": [
    "import pandas as pd\n",
    "import tensorflow as tf\n",
    "import os\n",
    "\n",
    "# Set the directory for your images\n",
    "image_dir = './dataset/Data/Images/'\n",
    "size = 2000\n",
    "# Load the images into a list\n",
    "X = []\n",
    "for filename in os.listdir(image_dir)[:size]:\n",
    "    img_path = os.path.join(image_dir, filename)\n",
    "    img = tf.keras.preprocessing.image.load_img(\n",
    "        img_path, target_size=(160, 320))\n",
    "    X.append(tf.keras.preprocessing.image.img_to_array(img))\n",
    "\n",
    "# Convert the list of images to a NumPy array\n",
    "X = tf.convert_to_tensor(X)\n",
    "\n",
    "\n"
   ]
  },
  {
   "cell_type": "code",
   "execution_count": 6,
   "metadata": {},
   "outputs": [],
   "source": [
    "train_dataset_y = pd.read_csv('./dataset/Data/SteerValues/steer_values.txt',\n",
    "                              delimiter=\"\\t\", header=None, names=[\"Steering\"])\n",
    "\n",
    "Y = tf.convert_to_tensor(\n",
    "    train_dataset_y[\"Steering\"][:size].values, dtype=tf.float32)\n"
   ]
  },
  {
   "cell_type": "code",
   "execution_count": 7,
   "metadata": {},
   "outputs": [],
   "source": [
    "# Create a dataset from the images and labels\n",
    "#dataset = tf.data.Dataset.from_tensor_slices((X, Y))\n",
    "\n",
    "# Shuffle and batch the dataset\n",
    "#batch_size = 32\n",
    "#dataset = dataset.shuffle(buffer_size=len(X))\n",
    "#dataset = dataset.batch(batch_size)\n",
    "\n",
    "# Use 80% of data for training, 20% for validation\n",
    "split_index = int(0.8 * len(X))\n",
    "X_train, X_val = X[:split_index], X[split_index:]\n",
    "Y_train, Y_val = Y[:split_index], Y[split_index:]\n"
   ]
  },
  {
   "cell_type": "code",
   "execution_count": 8,
   "metadata": {},
   "outputs": [
    {
     "data": {
      "text/plain": [
       "TensorShape([1600, 160, 320, 3])"
      ]
     },
     "execution_count": 8,
     "metadata": {},
     "output_type": "execute_result"
    }
   ],
   "source": [
    "X_train.shape"
   ]
  },
  {
   "cell_type": "code",
   "execution_count": 9,
   "metadata": {},
   "outputs": [
    {
     "name": "stdout",
     "output_type": "stream",
     "text": [
      "Epoch 1/10\n",
      "WARNING:tensorflow:Using a while_loop for converting RngReadAndSkip cause there is no registered converter for this op.\n",
      "WARNING:tensorflow:Using a while_loop for converting Bitcast cause there is no registered converter for this op.\n",
      "WARNING:tensorflow:Using a while_loop for converting Bitcast cause there is no registered converter for this op.\n",
      "WARNING:tensorflow:Using a while_loop for converting StatelessRandomUniformV2 cause there is no registered converter for this op.\n",
      "WARNING:tensorflow:Using a while_loop for converting ImageProjectiveTransformV3 cause there is no registered converter for this op.\n",
      "WARNING:tensorflow:Using a while_loop for converting RngReadAndSkip cause there is no registered converter for this op.\n",
      "WARNING:tensorflow:Using a while_loop for converting Bitcast cause there is no registered converter for this op.\n",
      "WARNING:tensorflow:Using a while_loop for converting Bitcast cause there is no registered converter for this op.\n",
      "WARNING:tensorflow:Using a while_loop for converting StatelessRandomUniformV2 cause there is no registered converter for this op.\n",
      "WARNING:tensorflow:Using a while_loop for converting ImageProjectiveTransformV3 cause there is no registered converter for this op.\n",
      "WARNING:tensorflow:Using a while_loop for converting RngReadAndSkip cause there is no registered converter for this op.\n",
      "WARNING:tensorflow:Using a while_loop for converting Bitcast cause there is no registered converter for this op.\n",
      "WARNING:tensorflow:Using a while_loop for converting Bitcast cause there is no registered converter for this op.\n",
      "WARNING:tensorflow:Using a while_loop for converting StatelessRandomUniformV2 cause there is no registered converter for this op.\n",
      "WARNING:tensorflow:Using a while_loop for converting ImageProjectiveTransformV3 cause there is no registered converter for this op.\n",
      "WARNING:tensorflow:Using a while_loop for converting RngReadAndSkip cause there is no registered converter for this op.\n",
      "WARNING:tensorflow:Using a while_loop for converting Bitcast cause there is no registered converter for this op.\n",
      "WARNING:tensorflow:Using a while_loop for converting Bitcast cause there is no registered converter for this op.\n",
      "WARNING:tensorflow:Using a while_loop for converting StatelessRandomUniformV2 cause there is no registered converter for this op.\n",
      "WARNING:tensorflow:Using a while_loop for converting ImageProjectiveTransformV3 cause there is no registered converter for this op.\n",
      "WARNING:tensorflow:Using a while_loop for converting RngReadAndSkip cause there is no registered converter for this op.\n",
      "WARNING:tensorflow:Using a while_loop for converting Bitcast cause there is no registered converter for this op.\n",
      "WARNING:tensorflow:Using a while_loop for converting Bitcast cause there is no registered converter for this op.\n",
      "WARNING:tensorflow:Using a while_loop for converting StatelessRandomUniformV2 cause there is no registered converter for this op.\n",
      "WARNING:tensorflow:Using a while_loop for converting ImageProjectiveTransformV3 cause there is no registered converter for this op.\n",
      "WARNING:tensorflow:Using a while_loop for converting RngReadAndSkip cause there is no registered converter for this op.\n",
      "WARNING:tensorflow:Using a while_loop for converting Bitcast cause there is no registered converter for this op.\n",
      "WARNING:tensorflow:Using a while_loop for converting Bitcast cause there is no registered converter for this op.\n",
      "WARNING:tensorflow:Using a while_loop for converting StatelessRandomUniformV2 cause there is no registered converter for this op.\n",
      "WARNING:tensorflow:Using a while_loop for converting ImageProjectiveTransformV3 cause there is no registered converter for this op.\n",
      "WARNING:tensorflow:Using a while_loop for converting RngReadAndSkip cause there is no registered converter for this op.\n",
      "WARNING:tensorflow:Using a while_loop for converting Bitcast cause there is no registered converter for this op.\n",
      "WARNING:tensorflow:Using a while_loop for converting Bitcast cause there is no registered converter for this op.\n",
      "WARNING:tensorflow:Using a while_loop for converting StatelessRandomUniformV2 cause there is no registered converter for this op.\n",
      "WARNING:tensorflow:Using a while_loop for converting ImageProjectiveTransformV3 cause there is no registered converter for this op.\n",
      "WARNING:tensorflow:Using a while_loop for converting RngReadAndSkip cause there is no registered converter for this op.\n",
      "WARNING:tensorflow:Using a while_loop for converting Bitcast cause there is no registered converter for this op.\n",
      "WARNING:tensorflow:Using a while_loop for converting Bitcast cause there is no registered converter for this op.\n",
      "WARNING:tensorflow:Using a while_loop for converting StatelessRandomUniformV2 cause there is no registered converter for this op.\n",
      "WARNING:tensorflow:Using a while_loop for converting ImageProjectiveTransformV3 cause there is no registered converter for this op.\n",
      "50/50 [==============================] - 74s 363ms/step - loss: 0.0083 - mean_squared_error: 0.0083 - mean_absolute_error: 0.0461 - val_loss: 0.0132 - val_mean_squared_error: 0.0132 - val_mean_absolute_error: 0.0590\n",
      "Epoch 2/10\n",
      "50/50 [==============================] - 10s 209ms/step - loss: 0.0082 - mean_squared_error: 0.0082 - mean_absolute_error: 0.0479 - val_loss: 0.0133 - val_mean_squared_error: 0.0133 - val_mean_absolute_error: 0.0569\n",
      "Epoch 3/10\n",
      "50/50 [==============================] - 6s 124ms/step - loss: 0.0082 - mean_squared_error: 0.0082 - mean_absolute_error: 0.0465 - val_loss: 0.0131 - val_mean_squared_error: 0.0131 - val_mean_absolute_error: 0.0605\n",
      "Epoch 4/10\n",
      "50/50 [==============================] - 6s 123ms/step - loss: 0.0082 - mean_squared_error: 0.0082 - mean_absolute_error: 0.0473 - val_loss: 0.0132 - val_mean_squared_error: 0.0132 - val_mean_absolute_error: 0.0600\n",
      "Epoch 5/10\n",
      "50/50 [==============================] - 5s 109ms/step - loss: 0.0082 - mean_squared_error: 0.0082 - mean_absolute_error: 0.0469 - val_loss: 0.0131 - val_mean_squared_error: 0.0131 - val_mean_absolute_error: 0.0626\n",
      "Epoch 6/10\n",
      "50/50 [==============================] - 5s 93ms/step - loss: 0.0082 - mean_squared_error: 0.0082 - mean_absolute_error: 0.0472 - val_loss: 0.0131 - val_mean_squared_error: 0.0131 - val_mean_absolute_error: 0.0602\n",
      "Epoch 7/10\n",
      "50/50 [==============================] - 5s 107ms/step - loss: 0.0082 - mean_squared_error: 0.0082 - mean_absolute_error: 0.0480 - val_loss: 0.0133 - val_mean_squared_error: 0.0133 - val_mean_absolute_error: 0.0559\n",
      "Epoch 8/10\n",
      "50/50 [==============================] - 5s 96ms/step - loss: 0.0082 - mean_squared_error: 0.0082 - mean_absolute_error: 0.0453 - val_loss: 0.0130 - val_mean_squared_error: 0.0130 - val_mean_absolute_error: 0.0691\n",
      "Epoch 9/10\n",
      "50/50 [==============================] - 5s 93ms/step - loss: 0.0082 - mean_squared_error: 0.0082 - mean_absolute_error: 0.0468 - val_loss: 0.0132 - val_mean_squared_error: 0.0132 - val_mean_absolute_error: 0.0589\n",
      "Epoch 10/10\n",
      "50/50 [==============================] - 5s 96ms/step - loss: 0.0082 - mean_squared_error: 0.0082 - mean_absolute_error: 0.0490 - val_loss: 0.0133 - val_mean_squared_error: 0.0133 - val_mean_absolute_error: 0.0562\n"
     ]
    }
   ],
   "source": [
    "callbacks = [\n",
    "    keras.callbacks.ModelCheckpoint(\n",
    "        filepath=\"convnet_from_scratch.h5\",\n",
    "        save_best_only=True,\n",
    "        monitor=\"val_loss\")\n",
    "]\n",
    "history = model.fit(\n",
    "    X_train, Y_train, validation_data=(X_val, Y_val),\n",
    "    epochs=10,\n",
    "    callbacks=callbacks)\n"
   ]
  },
  {
   "cell_type": "code",
   "execution_count": 10,
   "metadata": {},
   "outputs": [
    {
     "name": "stdout",
     "output_type": "stream",
     "text": [
      "Model: \"sequential_2\"\n",
      "_________________________________________________________________\n",
      " Layer (type)                Output Shape              Param #   \n",
      "=================================================================\n",
      " sequential (Sequential)     (None, 160, 320, 3)       0         \n",
      "                                                                 \n",
      " rescaling_1 (Rescaling)     (None, 160, 320, 3)       0         \n",
      "                                                                 \n",
      " conv2d_5 (Conv2D)           (None, 78, 158, 3)        228       \n",
      "                                                                 \n",
      " conv2d_6 (Conv2D)           (None, 37, 77, 24)        1824      \n",
      "                                                                 \n",
      " conv2d_7 (Conv2D)           (None, 17, 37, 36)        21636     \n",
      "                                                                 \n",
      " conv2d_8 (Conv2D)           (None, 8, 18, 48)         15600     \n",
      "                                                                 \n",
      " conv2d_9 (Conv2D)           (None, 3, 8, 64)          27712     \n",
      "                                                                 \n",
      " conv2d_10 (Conv2D)          (None, 1, 3, 64)          36928     \n",
      "                                                                 \n",
      " flatten_1 (Flatten)         (None, 192)               0         \n",
      "                                                                 \n",
      " dense_1 (Dense)             (None, 1164)              224652    \n",
      "                                                                 \n",
      " dense_2 (Dense)             (None, 100)               116500    \n",
      "                                                                 \n",
      " dense_3 (Dense)             (None, 50)                5050      \n",
      "                                                                 \n",
      " dense_4 (Dense)             (None, 10)                510       \n",
      "                                                                 \n",
      " dense_5 (Dense)             (None, 1)                 11        \n",
      "                                                                 \n",
      "=================================================================\n",
      "Total params: 450,651\n",
      "Trainable params: 450,651\n",
      "Non-trainable params: 0\n",
      "_________________________________________________________________\n"
     ]
    }
   ],
   "source": [
    "model.summary()"
   ]
  },
  {
   "cell_type": "code",
   "execution_count": 10,
   "metadata": {},
   "outputs": [
    {
     "data": {
      "image/png": "[encoded data removed]",
      "text/plain": [
       "<Figure size 432x288 with 1 Axes>"
      ]
     },
     "metadata": {
      "needs_background": "light"
     },
     "output_type": "display_data"
    },
    {
     "data": {
      "image/png": "[encoded data removed]",
      "text/plain": [
       "<Figure size 432x288 with 1 Axes>"
      ]
     },
     "metadata": {
      "needs_background": "light"
     },
     "output_type": "display_data"
    }
   ],
   "source": [
    "import matplotlib.pyplot as plt\n",
    "accuracy = history.history[\"mean_squared_error\"]\n",
    "val_accuracy = history.history[\"val_mean_squared_error\"]\n",
    "loss = history.history[\"mean_absolute_error\"]\n",
    "val_loss = history.history[\"val_mean_absolute_error\"]\n",
    "epochs = range(1, len(accuracy) + 1)\n",
    "plt.plot(epochs, accuracy, \"bo\", label=\"Training\")\n",
    "plt.plot(epochs, val_accuracy, \"b\", label=\"Validation\")\n",
    "plt.title(\"Training and validation MSE\")\n",
    "plt.legend()\n",
    "plt.figure()\n",
    "plt.plot(epochs, loss, \"bo\", label=\"Training\")\n",
    "plt.plot(epochs, val_loss, \"b\", label=\"Validation\")\n",
    "plt.title(\"Training and validation MAE\")\n",
    "plt.legend()\n",
    "plt.show()\n"
   ]
  }
 ],
 "metadata": {
  "kernelspec": {
   "display_name": "tf",
   "language": "python",
   "name": "python3"
  },
  "language_info": {
   "codemirror_mode": {
    "name": "ipython",
    "version": 3
   },
   "file_extension": ".py",
   "mimetype": "text/x-python",
   "name": "python",
   "nbconvert_exporter": "python",
   "pygments_lexer": "ipython3",
   "version": "3.9.16"
  },
  "orig_nbformat": 4
 },
 "nbformat": 4,
 "nbformat_minor": 2
}
