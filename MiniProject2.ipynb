{
 "cells": [
  {
   "cell_type": "code",
   "execution_count": 2,
   "metadata": {},
   "outputs": [],
   "source": [
    "from tensorflow import keras\n",
    "from keras import layers\n",
    "\n",
    "import pandas as pd\n",
    "import numpy as np"
   ]
  },
  {
   "cell_type": "code",
   "execution_count": 3,
   "metadata": {},
   "outputs": [],
   "source": [
    "from utils import dataset"
   ]
  },
  {
   "cell_type": "code",
   "execution_count": 10,
   "metadata": {},
   "outputs": [],
   "source": [
    "from keras.layers import Conv2D, MaxPooling2D, Dense, Flatten, Dropout\n",
    "from keras.activations import relu\n",
    "from keras.optimizers import Adam\n",
    "from keras.losses import mean_squared_error\n",
    "\n",
    "model = keras.Sequential([\n",
    "    keras.layers.Rescaling(1./255, input_shape=(160,320,3)),\n",
    "    Conv2D(3, (5,5), strides=2, padding=\"same\", activation=relu),\n",
    "    Conv2D(24, (5, 5), strides=2, padding=\"same\", activation=relu),\n",
    "    Conv2D(36, (3, 3), strides=2, padding=\"same\", activation=relu),\n",
    "    Conv2D(48, (3, 3), strides=2, padding=\"same\", activation=relu),\n",
    "    Conv2D(64, (3, 3), strides=2, padding=\"same\", activation=relu),\n",
    "    Flatten(),\n",
    "    Dense(100, activation=relu),\n",
    "    Dense(50, activation=relu),\n",
    "    Dense(10, activation=relu),\n",
    "    Dense(1, activation=\"tanh\"),\n",
    "\n",
    "])\n",
    "\n",
    "model.compile(loss=mean_squared_error, optimizer=Adam(0.00001), metrics=['mean_squared_error'])\n"
   ]
  },
  {
   "cell_type": "code",
   "execution_count": 11,
   "metadata": {},
   "outputs": [],
   "source": [
    "train_csv='/home/tyler/Desktop/testObjLab/autopilot_project/data_set/train_data/driving_log.csv'\n",
    "test_csv = '/home/tyler/Desktop/testObjLab/autopilot_project/data_set/test_data/driving_log.csv'\n",
    "batchSize = 32\n",
    "train_ds=dataset(train_csv, batchsize=batchSize)\n",
    "test_ds = dataset(test_csv, batchsize=batchSize)"
   ]
  },
  {
   "cell_type": "code",
   "execution_count": 12,
   "metadata": {},
   "outputs": [
    {
     "name": "stdout",
     "output_type": "stream",
     "text": [
      "Epoch 1/20\n",
      "556/556 [==============================] - 21s 36ms/step - loss: 0.0184 - mean_squared_error: 0.0184 - val_loss: 0.0173 - val_mean_squared_error: 0.0173\n",
      "Epoch 2/20\n",
      "556/556 [==============================] - 22s 39ms/step - loss: 0.0174 - mean_squared_error: 0.0174 - val_loss: 0.0156 - val_mean_squared_error: 0.0156\n",
      "Epoch 3/20\n",
      "556/556 [==============================] - 23s 41ms/step - loss: 0.0158 - mean_squared_error: 0.0158 - val_loss: 0.0146 - val_mean_squared_error: 0.0146\n",
      "Epoch 4/20\n",
      "556/556 [==============================] - 24s 42ms/step - loss: 0.0149 - mean_squared_error: 0.0149 - val_loss: 0.0140 - val_mean_squared_error: 0.0140\n",
      "Epoch 5/20\n",
      "556/556 [==============================] - 23s 41ms/step - loss: 0.0143 - mean_squared_error: 0.0143 - val_loss: 0.0137 - val_mean_squared_error: 0.0137\n",
      "Epoch 6/20\n",
      "556/556 [==============================] - 23s 42ms/step - loss: 0.0139 - mean_squared_error: 0.0139 - val_loss: 0.0134 - val_mean_squared_error: 0.0134\n",
      "Epoch 7/20\n",
      "556/556 [==============================] - 23s 41ms/step - loss: 0.0135 - mean_squared_error: 0.0135 - val_loss: 0.0131 - val_mean_squared_error: 0.0131\n",
      "Epoch 8/20\n",
      "556/556 [==============================] - 22s 40ms/step - loss: 0.0132 - mean_squared_error: 0.0132 - val_loss: 0.0130 - val_mean_squared_error: 0.0130\n",
      "Epoch 9/20\n",
      "556/556 [==============================] - 23s 42ms/step - loss: 0.0130 - mean_squared_error: 0.0130 - val_loss: 0.0130 - val_mean_squared_error: 0.0130\n",
      "Epoch 10/20\n",
      "556/556 [==============================] - 23s 42ms/step - loss: 0.0129 - mean_squared_error: 0.0129 - val_loss: 0.0128 - val_mean_squared_error: 0.0128\n",
      "Epoch 11/20\n",
      "556/556 [==============================] - 22s 40ms/step - loss: 0.0127 - mean_squared_error: 0.0127 - val_loss: 0.0130 - val_mean_squared_error: 0.0130\n",
      "Epoch 12/20\n",
      "556/556 [==============================] - 24s 43ms/step - loss: 0.0126 - mean_squared_error: 0.0126 - val_loss: 0.0127 - val_mean_squared_error: 0.0127\n",
      "Epoch 13/20\n",
      "556/556 [==============================] - 22s 40ms/step - loss: 0.0124 - mean_squared_error: 0.0124 - val_loss: 0.0126 - val_mean_squared_error: 0.0126\n",
      "Epoch 14/20\n",
      "556/556 [==============================] - 23s 42ms/step - loss: 0.0123 - mean_squared_error: 0.0123 - val_loss: 0.0126 - val_mean_squared_error: 0.0126\n",
      "Epoch 15/20\n",
      "556/556 [==============================] - 22s 39ms/step - loss: 0.0123 - mean_squared_error: 0.0123 - val_loss: 0.0126 - val_mean_squared_error: 0.0126\n",
      "Epoch 16/20\n",
      "556/556 [==============================] - 25s 44ms/step - loss: 0.0121 - mean_squared_error: 0.0121 - val_loss: 0.0125 - val_mean_squared_error: 0.0125\n",
      "Epoch 17/20\n",
      "556/556 [==============================] - 23s 42ms/step - loss: 0.0121 - mean_squared_error: 0.0121 - val_loss: 0.0124 - val_mean_squared_error: 0.0124\n",
      "Epoch 18/20\n",
      "556/556 [==============================] - 23s 42ms/step - loss: 0.0120 - mean_squared_error: 0.0120 - val_loss: 0.0124 - val_mean_squared_error: 0.0124\n",
      "Epoch 19/20\n",
      "556/556 [==============================] - 22s 39ms/step - loss: 0.0119 - mean_squared_error: 0.0119 - val_loss: 0.0124 - val_mean_squared_error: 0.0124\n",
      "Epoch 20/20\n",
      "556/556 [==============================] - 23s 42ms/step - loss: 0.0118 - mean_squared_error: 0.0118 - val_loss: 0.0125 - val_mean_squared_error: 0.0125\n"
     ]
    }
   ],
   "source": [
    "callbacks = [\n",
    "    keras.callbacks.ModelCheckpoint(\n",
    "        filepath=\"myModel.h5\",\n",
    "        save_best_only=True\n",
    "    ),\n",
    "\n",
    "    keras.callbacks.EarlyStopping(monitor='loss',patience=5,mode='min'),\n",
    "]\n",
    "history = model.fit(\n",
    "    train_ds,\n",
    "    validation_data=test_ds,\n",
    "    epochs=20,\n",
    "    callbacks=callbacks)\n"
   ]
  },
  {
   "cell_type": "code",
   "execution_count": 13,
   "metadata": {},
   "outputs": [
    {
     "name": "stdout",
     "output_type": "stream",
     "text": [
      "Model: \"sequential_1\"\n",
      "_________________________________________________________________\n",
      " Layer (type)                Output Shape              Param #   \n",
      "=================================================================\n",
      " rescaling_1 (Rescaling)     (None, 160, 320, 3)       0         \n",
      "                                                                 \n",
      " conv2d_5 (Conv2D)           (None, 80, 160, 3)        228       \n",
      "                                                                 \n",
      " conv2d_6 (Conv2D)           (None, 40, 80, 24)        1824      \n",
      "                                                                 \n",
      " conv2d_7 (Conv2D)           (None, 20, 40, 36)        21636     \n",
      "                                                                 \n",
      " conv2d_8 (Conv2D)           (None, 10, 20, 48)        15600     \n",
      "                                                                 \n",
      " conv2d_9 (Conv2D)           (None, 5, 10, 64)         27712     \n",
      "                                                                 \n",
      " flatten_1 (Flatten)         (None, 3200)              0         \n",
      "                                                                 \n",
      " dense_4 (Dense)             (None, 100)               320100    \n",
      "                                                                 \n",
      " dense_5 (Dense)             (None, 50)                5050      \n",
      "                                                                 \n",
      " dense_6 (Dense)             (None, 10)                510       \n",
      "                                                                 \n",
      " dense_7 (Dense)             (None, 1)                 11        \n",
      "                                                                 \n",
      "=================================================================\n",
      "Total params: 392,671\n",
      "Trainable params: 392,671\n",
      "Non-trainable params: 0\n",
      "_________________________________________________________________\n"
     ]
    }
   ],
   "source": [
    "model.summary()"
   ]
  },
  {
   "cell_type": "code",
   "execution_count": 13,
   "metadata": {},
   "outputs": [
    {
     "data": {
      "image/png": "[encoded data removed]",
      "text/plain": [
       "<Figure size 640x480 with 1 Axes>"
      ]
     },
     "metadata": {},
     "output_type": "display_data"
    },
    {
     "data": {
      "text/plain": [
       "<Figure size 640x480 with 0 Axes>"
      ]
     },
     "metadata": {},
     "output_type": "display_data"
    }
   ],
   "source": [
    "import matplotlib.pyplot as plt\n",
    "accuracy = history.history[\"mean_squared_error\"]\n",
    "val_accuracy = history.history[\"val_mean_squared_error\"]\n",
    "epochs = range(1, len(accuracy) + 1)\n",
    "plt.plot(epochs, accuracy, \"bo\", label=\"Training\")\n",
    "plt.plot(epochs, val_accuracy, \"b\", label=\"Validation\")\n",
    "plt.title(\"Training and validation MSE\")\n",
    "plt.legend()\n",
    "plt.figure()\n",
    "plt.show()\n"
   ]
  }
 ],
 "metadata": {
  "kernelspec": {
   "display_name": "tf",
   "language": "python",
   "name": "python3"
  },
  "language_info": {
   "codemirror_mode": {
    "name": "ipython",
    "version": 3
   },
   "file_extension": ".py",
   "mimetype": "text/x-python",
   "name": "python",
   "nbconvert_exporter": "python",
   "pygments_lexer": "ipython3",
   "version": "3.9.16"
  },
  "orig_nbformat": 4
 },
 "nbformat": 4,
 "nbformat_minor": 2
}
